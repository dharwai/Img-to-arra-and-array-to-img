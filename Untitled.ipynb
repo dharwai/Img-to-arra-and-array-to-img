{
 "cells": [
  {
   "cell_type": "code",
   "execution_count": 84,
   "id": "e6d24e4e",
   "metadata": {},
   "outputs": [],
   "source": [
    "import cv2\n",
    "import numpy as np\n",
    "\n",
    "# Define the shape of the array\n",
    "shape = (128,128)\n",
    "\n",
    "# Create a 2D array with random values between 0 and 255\n",
    "arr1 = np.random.randint(0, 256, size=shape, dtype=np.uint8)\n",
    "\n",
    "# Convert the 2D array to an image\n",
    "#cv2.imwrite('bb.png', arr1)"
   ]
  },
  {
   "cell_type": "code",
   "execution_count": 86,
   "id": "4b477e1e",
   "metadata": {},
   "outputs": [
    {
     "data": {
      "text/plain": [
       "array([[ 24, 152,   9, ..., 156, 117, 162],\n",
       "       [211, 237, 206, ..., 228, 139,  69],\n",
       "       [139,  40,  89, ..., 216, 183, 231],\n",
       "       ...,\n",
       "       [201, 180, 158, ..., 240, 225, 201],\n",
       "       [177,  42,  88, ...,  54,  60, 157],\n",
       "       [ 15, 131, 226, ..., 166, 143, 234]], dtype=uint8)"
      ]
     },
     "execution_count": 86,
     "metadata": {},
     "output_type": "execute_result"
    }
   ],
   "source": [
    "arr1"
   ]
  },
  {
   "cell_type": "code",
   "execution_count": null,
   "id": "d85b7c4a",
   "metadata": {},
   "outputs": [],
   "source": []
  },
  {
   "cell_type": "code",
   "execution_count": null,
   "id": "9945c86d",
   "metadata": {},
   "outputs": [],
   "source": []
  },
  {
   "cell_type": "code",
   "execution_count": 90,
   "id": "a807bcfc",
   "metadata": {},
   "outputs": [],
   "source": [
    "import cv2\n",
    "import numpy as np\n",
    "\n",
    "# Load the image\n",
    "img = cv2.imread('bb.png', cv2.IMREAD_GRAYSCALE)\n",
    "\n",
    "# Convert the image to a numpy array\n",
    "#arr = np.array(img, dtype=np.uint8)\n"
   ]
  },
  {
   "cell_type": "code",
   "execution_count": 94,
   "id": "a5267e42",
   "metadata": {},
   "outputs": [
    {
     "data": {
      "text/plain": [
       "array([[ 24, 152,   9, ..., 156, 117, 162],\n",
       "       [211, 237, 206, ..., 228, 139,  69],\n",
       "       [139,  40,  89, ..., 216, 183, 231],\n",
       "       ...,\n",
       "       [201, 180, 158, ..., 240, 225, 201],\n",
       "       [177,  42,  88, ...,  54,  60, 157],\n",
       "       [ 15, 131, 226, ..., 166, 143, 234]], dtype=uint8)"
      ]
     },
     "execution_count": 94,
     "metadata": {},
     "output_type": "execute_result"
    }
   ],
   "source": [
    "img"
   ]
  },
  {
   "cell_type": "code",
   "execution_count": null,
   "id": "e3cbe7d1",
   "metadata": {},
   "outputs": [],
   "source": [
    "#if i print just img it will show me the orioginal array list build during the image creattion from randon array\n",
    "#ut if print array after np.array means converting ten it will be arrays."
   ]
  },
  {
   "cell_type": "code",
   "execution_count": null,
   "id": "12a198f3",
   "metadata": {},
   "outputs": [],
   "source": []
  },
  {
   "cell_type": "code",
   "execution_count": null,
   "id": "163eaf33",
   "metadata": {},
   "outputs": [],
   "source": []
  },
  {
   "cell_type": "code",
   "execution_count": null,
   "id": "37b4c756",
   "metadata": {},
   "outputs": [],
   "source": []
  },
  {
   "cell_type": "code",
   "execution_count": 40,
   "id": "f22d73bc",
   "metadata": {},
   "outputs": [],
   "source": [
    "\n"
   ]
  },
  {
   "cell_type": "code",
   "execution_count": null,
   "id": "fc816e34",
   "metadata": {},
   "outputs": [],
   "source": []
  },
  {
   "cell_type": "code",
   "execution_count": null,
   "id": "74443464",
   "metadata": {},
   "outputs": [],
   "source": []
  },
  {
   "cell_type": "code",
   "execution_count": 68,
   "id": "5462742e",
   "metadata": {},
   "outputs": [
    {
     "data": {
      "text/plain": [
       "True"
      ]
     },
     "execution_count": 68,
     "metadata": {},
     "output_type": "execute_result"
    }
   ],
   "source": []
  },
  {
   "cell_type": "code",
   "execution_count": null,
   "id": "b3be4122",
   "metadata": {},
   "outputs": [],
   "source": []
  },
  {
   "cell_type": "code",
   "execution_count": 75,
   "id": "e745f6de",
   "metadata": {},
   "outputs": [],
   "source": []
  },
  {
   "cell_type": "code",
   "execution_count": null,
   "id": "322ff1ca",
   "metadata": {},
   "outputs": [],
   "source": []
  },
  {
   "cell_type": "code",
   "execution_count": null,
   "id": "dcc842cf",
   "metadata": {},
   "outputs": [],
   "source": []
  }
 ],
 "metadata": {
  "kernelspec": {
   "display_name": "Python 3 (ipykernel)",
   "language": "python",
   "name": "python3"
  },
  "language_info": {
   "codemirror_mode": {
    "name": "ipython",
    "version": 3
   },
   "file_extension": ".py",
   "mimetype": "text/x-python",
   "name": "python",
   "nbconvert_exporter": "python",
   "pygments_lexer": "ipython3",
   "version": "3.9.7"
  }
 },
 "nbformat": 4,
 "nbformat_minor": 5
}
